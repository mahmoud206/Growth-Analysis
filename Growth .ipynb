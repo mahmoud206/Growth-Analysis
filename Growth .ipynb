{
 "cells": [
  {
   "cell_type": "code",
   "execution_count": 146,
   "id": "13998ca3",
   "metadata": {},
   "outputs": [],
   "source": [
    "import pandas as pd\n",
    "from datetime import date, timedelta , datetime\n",
    "import warnings\n",
    "warnings.filterwarnings('ignore')\n"
   ]
  },
  {
   "cell_type": "markdown",
   "id": "4c2a394c-19c8-4192-bd3b-a60c7f028cc2",
   "metadata": {},
   "source": [
    "## FUNCTION DEFINITIONS \n"
   ]
  },
  {
   "cell_type": "code",
   "execution_count": 147,
   "id": "2f84d178",
   "metadata": {},
   "outputs": [],
   "source": [
    "def set_period(p):\n",
    "    period_end=date(2022,10,31)\n",
    "    period_start=period_end - timedelta(days=p-1)\n",
    "    return ( period_start , period_end)\n"
   ]
  },
  {
   "cell_type": "code",
   "execution_count": 148,
   "id": "30c5b75d",
   "metadata": {},
   "outputs": [
    {
     "data": {
      "text/plain": [
       "(datetime.date(2022, 10, 3), datetime.date(2022, 10, 31))"
      ]
     },
     "execution_count": 148,
     "metadata": {},
     "output_type": "execute_result"
    }
   ],
   "source": [
    "set_period(29)\n"
   ]
  },
  {
   "cell_type": "code",
   "execution_count": 149,
   "id": "35077a44",
   "metadata": {},
   "outputs": [],
   "source": [
    "def is_based(df,period_start , period_end):\n",
    "    for i in range(len(df)):\n",
    "        if None:\n",
    "            pass \n",
    "        if df['status'][i]==3:\n",
    "            if df['START_DATE'][i].date()<= period_start <= df['END_DATE'][i].date():\n",
    "                return (True , i)\n",
    "        else:\n",
    "            df['START_DATE'][i].date()<= period_start\n",
    "            return (True, i)\n",
    "\n",
    "    return (False , None)"
   ]
  },
  {
   "cell_type": "code",
   "execution_count": 150,
   "id": "a3a20ed8-0e5a-4a4b-a155-0df3f7fd47d2",
   "metadata": {},
   "outputs": [],
   "source": [
    "def is_new(df,period_start , period_end ):\n",
    "    for i in range(len(df)):\n",
    "        if period_start <= df['START_DATE'].min().date()<=period_end:\n",
    "            return (True , 0)\n",
    "    return (False , None)"
   ]
  },
  {
   "cell_type": "code",
   "execution_count": 151,
   "id": "6193d053",
   "metadata": {},
   "outputs": [
    {
     "data": {
      "text/plain": [
       "(True, 0)"
      ]
     },
     "execution_count": 151,
     "metadata": {},
     "output_type": "execute_result"
    }
   ],
   "source": [
    "is_based(df,date(2022, 10, 3) , date(2022, 10, 31))"
   ]
  },
  {
   "cell_type": "code",
   "execution_count": 152,
   "id": "bc8358b8-7a18-4cfb-abb8-eac2a451397b",
   "metadata": {},
   "outputs": [],
   "source": [
    "def is_churned(df,period_start , period_end ):\n",
    "    for i in range(len(df)):\n",
    "\n",
    "        if pd.isnull(df['END_DATE'][i]):\n",
    "            continue \n",
    "        if period_start<= df['END_DATE'][i].date()<= period_end:\n",
    "            return (True , i)\n",
    "    return(False , None)"
   ]
  },
  {
   "cell_type": "code",
   "execution_count": 153,
   "id": "6b1f34ae-587a-48a7-9803-fc27f641a07f",
   "metadata": {},
   "outputs": [],
   "source": [
    "def is_resurrected(df,period_start , period_end ):\n",
    "    for i in range(1,len(df)):\n",
    "        if period_start <= df['START_DATE'][i].date()<=period_end:\n",
    "            return (True , i)\n",
    "    return (False , None)"
   ]
  },
  {
   "cell_type": "code",
   "execution_count": 154,
   "id": "25df490c-33be-447f-96eb-ce4b1d9a2991",
   "metadata": {},
   "outputs": [],
   "source": [
    "def generate_user_tags(df, period = 30, period_start = None, period_end = None):\n",
    "    \n",
    "    if period_start is None and period_end is None:\n",
    "        period_start, period_end = set_period(period)\n",
    "    \n",
    "    if period_start is None:\n",
    "        period_start = period_end - timedelta(days = period - 1)\n",
    "    \n",
    "    if period_end is None:\n",
    "        period_end = period_start + timedelta(days = period - 1)\n",
    "    \n",
    "    \n",
    "    \n",
    "    r = []\n",
    "    \n",
    "    \n",
    "    users = set(df['user_id'])\n",
    "    \n",
    "    for user_id in users:\n",
    "        \n",
    "        mask = (df['user_id'] == user_id)\n",
    "        user = df[mask]\n",
    "        user.reset_index(drop = True, inplace = True)\n",
    "        \n",
    "        \n",
    "        test, index = is_based(user, period_start, period_end)\n",
    "        if test:\n",
    "            r.append([ user['user_id'][index], user['status'].iloc[-1], user['plan'][index], \"Base\" ])\n",
    "        \n",
    "        test, index = is_new(user, period_start, period_end)\n",
    "        if test:\n",
    "            r.append([ user['user_id'][index], user['status'].iloc[-1], user['plan'][index], \"New\" ])\n",
    "        \n",
    "        test, index = is_churned(user, period_start, period_end)\n",
    "        if test:\n",
    "            r.append([ user['user_id'][index], user['status'].iloc[-1], user['plan'][index], \"Churned\" ])\n",
    "        \n",
    "        test, index = is_resurrected(user, period_start, period_end)\n",
    "        if test:\n",
    "            r.append([ user['user_id'][index], user['status'].iloc[-1], user['plan'][index], \"Resurrected\" ])\n",
    "    \n",
    "    \n",
    "    \n",
    "    result = pd.DataFrame(data = r, columns = [\"user_id\", \"current status\", \"plan\", \"tag\"])\n",
    "    result.sort_values(by = \"user_id\", inplace = True, ignore_index = True)\n",
    "    \n",
    "    \n",
    "    return result"
   ]
  },
  {
   "cell_type": "markdown",
   "id": "8efd356e-e0cc-448d-8716-912eb20da374",
   "metadata": {},
   "source": [
    "## DATA EXPLORATION "
   ]
  },
  {
   "cell_type": "code",
   "execution_count": 155,
   "id": "72633b4a",
   "metadata": {},
   "outputs": [
    {
     "data": {
      "text/plain": [
       "Index(['user_id', 'subscription_id', 'plan', 'status', 'START_DATE',\n",
       "       'END_DATE'],\n",
       "      dtype='object')"
      ]
     },
     "execution_count": 155,
     "metadata": {},
     "output_type": "execute_result"
    }
   ],
   "source": [
    "df=pd.read_csv(\"E:/ProgrammingPortfolio/DataScience/Growth-Analysis-Project/Waterfall_subscriptions.csv\")\n",
    "df.columns"
   ]
  },
  {
   "cell_type": "code",
   "execution_count": 156,
   "id": "dd9b9a97",
   "metadata": {},
   "outputs": [
    {
     "name": "stdout",
     "output_type": "stream",
     "text": [
      "<class 'pandas.core.frame.DataFrame'>\n",
      "RangeIndex: 9653 entries, 0 to 9652\n",
      "Data columns (total 6 columns):\n",
      " #   Column           Non-Null Count  Dtype         \n",
      "---  ------           --------------  -----         \n",
      " 0   user_id          9653 non-null   int64         \n",
      " 1   subscription_id  9653 non-null   int64         \n",
      " 2   plan             9653 non-null   object        \n",
      " 3   status           9653 non-null   int64         \n",
      " 4   START_DATE       9653 non-null   datetime64[ns]\n",
      " 5   END_DATE         6081 non-null   datetime64[ns]\n",
      "dtypes: datetime64[ns](2), int64(3), object(1)\n",
      "memory usage: 452.6+ KB\n"
     ]
    }
   ],
   "source": [
    "df['START_DATE'] = pd.to_datetime(df['START_DATE']  , infer_datetime_format=True)\n",
    "\n",
    "df['END_DATE'] = pd.to_datetime(df['END_DATE']  , infer_datetime_format=True)\n",
    "\n",
    "df.info()"
   ]
  },
  {
   "cell_type": "markdown",
   "id": "975ff448-57d8-496c-a86b-8d8c1b44f0ef",
   "metadata": {},
   "source": [
    "## TEST "
   ]
  },
  {
   "cell_type": "code",
   "execution_count": 157,
   "id": "9a7438ef-20f4-4b00-8557-e984ca3a639c",
   "metadata": {},
   "outputs": [
    {
     "data": {
      "text/html": [
       "<div>\n",
       "<style scoped>\n",
       "    .dataframe tbody tr th:only-of-type {\n",
       "        vertical-align: middle;\n",
       "    }\n",
       "\n",
       "    .dataframe tbody tr th {\n",
       "        vertical-align: top;\n",
       "    }\n",
       "\n",
       "    .dataframe thead th {\n",
       "        text-align: right;\n",
       "    }\n",
       "</style>\n",
       "<table border=\"1\" class=\"dataframe\">\n",
       "  <thead>\n",
       "    <tr style=\"text-align: right;\">\n",
       "      <th></th>\n",
       "      <th>user_id</th>\n",
       "      <th>subscription_id</th>\n",
       "      <th>plan</th>\n",
       "      <th>status</th>\n",
       "      <th>START_DATE</th>\n",
       "      <th>END_DATE</th>\n",
       "    </tr>\n",
       "  </thead>\n",
       "  <tbody>\n",
       "    <tr>\n",
       "      <th>0</th>\n",
       "      <td>31</td>\n",
       "      <td>8368</td>\n",
       "      <td>Annual</td>\n",
       "      <td>1</td>\n",
       "      <td>2022-03-31</td>\n",
       "      <td>NaT</td>\n",
       "    </tr>\n",
       "    <tr>\n",
       "      <th>1</th>\n",
       "      <td>182</td>\n",
       "      <td>8246</td>\n",
       "      <td>Monthly</td>\n",
       "      <td>3</td>\n",
       "      <td>2022-03-26</td>\n",
       "      <td>2022-06-08</td>\n",
       "    </tr>\n",
       "    <tr>\n",
       "      <th>2</th>\n",
       "      <td>182</td>\n",
       "      <td>9415</td>\n",
       "      <td>Monthly</td>\n",
       "      <td>3</td>\n",
       "      <td>2022-07-13</td>\n",
       "      <td>2022-08-13</td>\n",
       "    </tr>\n",
       "    <tr>\n",
       "      <th>3</th>\n",
       "      <td>221</td>\n",
       "      <td>4629</td>\n",
       "      <td>Monthly</td>\n",
       "      <td>3</td>\n",
       "      <td>2021-06-10</td>\n",
       "      <td>2021-07-10</td>\n",
       "    </tr>\n",
       "    <tr>\n",
       "      <th>4</th>\n",
       "      <td>235</td>\n",
       "      <td>6429</td>\n",
       "      <td>Annual</td>\n",
       "      <td>1</td>\n",
       "      <td>2021-11-28</td>\n",
       "      <td>NaT</td>\n",
       "    </tr>\n",
       "  </tbody>\n",
       "</table>\n",
       "</div>"
      ],
      "text/plain": [
       "   user_id  subscription_id     plan  status START_DATE   END_DATE\n",
       "0       31             8368   Annual       1 2022-03-31        NaT\n",
       "1      182             8246  Monthly       3 2022-03-26 2022-06-08\n",
       "2      182             9415  Monthly       3 2022-07-13 2022-08-13\n",
       "3      221             4629  Monthly       3 2021-06-10 2021-07-10\n",
       "4      235             6429   Annual       1 2021-11-28        NaT"
      ]
     },
     "execution_count": 157,
     "metadata": {},
     "output_type": "execute_result"
    }
   ],
   "source": [
    "df.head()"
   ]
  },
  {
   "cell_type": "code",
   "execution_count": 158,
   "id": "5841066c-dd9e-40a0-b786-1b15b9661d36",
   "metadata": {},
   "outputs": [
    {
     "data": {
      "text/html": [
       "<div>\n",
       "<style scoped>\n",
       "    .dataframe tbody tr th:only-of-type {\n",
       "        vertical-align: middle;\n",
       "    }\n",
       "\n",
       "    .dataframe tbody tr th {\n",
       "        vertical-align: top;\n",
       "    }\n",
       "\n",
       "    .dataframe thead th {\n",
       "        text-align: right;\n",
       "    }\n",
       "</style>\n",
       "<table border=\"1\" class=\"dataframe\">\n",
       "  <thead>\n",
       "    <tr style=\"text-align: right;\">\n",
       "      <th></th>\n",
       "      <th>user_id</th>\n",
       "      <th>current status</th>\n",
       "      <th>plan</th>\n",
       "      <th>tag</th>\n",
       "    </tr>\n",
       "  </thead>\n",
       "  <tbody>\n",
       "    <tr>\n",
       "      <th>0</th>\n",
       "      <td>31</td>\n",
       "      <td>1</td>\n",
       "      <td>Annual</td>\n",
       "      <td>Base</td>\n",
       "    </tr>\n",
       "    <tr>\n",
       "      <th>1</th>\n",
       "      <td>235</td>\n",
       "      <td>1</td>\n",
       "      <td>Annual</td>\n",
       "      <td>Base</td>\n",
       "    </tr>\n",
       "    <tr>\n",
       "      <th>2</th>\n",
       "      <td>591</td>\n",
       "      <td>1</td>\n",
       "      <td>Annual</td>\n",
       "      <td>Base</td>\n",
       "    </tr>\n",
       "    <tr>\n",
       "      <th>3</th>\n",
       "      <td>616</td>\n",
       "      <td>1</td>\n",
       "      <td>Annual</td>\n",
       "      <td>Base</td>\n",
       "    </tr>\n",
       "    <tr>\n",
       "      <th>4</th>\n",
       "      <td>618</td>\n",
       "      <td>1</td>\n",
       "      <td>Annual</td>\n",
       "      <td>Base</td>\n",
       "    </tr>\n",
       "  </tbody>\n",
       "</table>\n",
       "</div>"
      ],
      "text/plain": [
       "   user_id  current status    plan   tag\n",
       "0       31               1  Annual  Base\n",
       "1      235               1  Annual  Base\n",
       "2      591               1  Annual  Base\n",
       "3      616               1  Annual  Base\n",
       "4      618               1  Annual  Base"
      ]
     },
     "execution_count": 158,
     "metadata": {},
     "output_type": "execute_result"
    }
   ],
   "source": [
    "\n",
    "test=generate_user_tags(df)\n",
    "test.head()"
   ]
  },
  {
   "cell_type": "markdown",
   "id": "1d46b1d5-d446-4378-abf5-ff0ea3248b81",
   "metadata": {},
   "source": [
    "## DATA EXPORT"
   ]
  },
  {
   "cell_type": "code",
   "execution_count": 159,
   "id": "4d2b9a94-d7c5-431e-8ff8-9bb2f98f9f24",
   "metadata": {},
   "outputs": [],
   "source": [
    "result_last_30=generate_user_tags(df,period=30)\n",
    "result_last_90=generate_user_tags(df,period=90)\n",
    "result_last_365=generate_user_tags(df,period=365)"
   ]
  },
  {
   "cell_type": "code",
   "execution_count": 160,
   "id": "765b9d10-9eb1-4199-97cd-b679aa54b672",
   "metadata": {},
   "outputs": [],
   "source": [
    "result_last_30.to_csv('Waterfall_subs_last_30.csv', index = False)\n",
    "result_last_90.to_csv('Waterfall_subs_last_90.csv', index = False)\n",
    "result_last_365.to_csv('Waterfall_subs_last_365.csv', index = False)"
   ]
  },
  {
   "cell_type": "code",
   "execution_count": null,
   "id": "e233d3de-61d2-404a-a373-0e98d1e8c567",
   "metadata": {},
   "outputs": [],
   "source": []
  },
  {
   "cell_type": "code",
   "execution_count": null,
   "id": "a515a702-e606-4cc9-8d1f-1aee2f3e8f80",
   "metadata": {},
   "outputs": [],
   "source": []
  },
  {
   "cell_type": "code",
   "execution_count": null,
   "id": "53a4b2f0-1f3d-4636-a663-7327bce2fc55",
   "metadata": {},
   "outputs": [],
   "source": []
  },
  {
   "cell_type": "code",
   "execution_count": null,
   "id": "63d93904-2502-4ddb-b966-c67a1edbaf22",
   "metadata": {},
   "outputs": [],
   "source": []
  },
  {
   "cell_type": "code",
   "execution_count": null,
   "id": "ffb030d3-f677-44e3-aca2-ac8b33cb2e4d",
   "metadata": {},
   "outputs": [],
   "source": []
  },
  {
   "cell_type": "code",
   "execution_count": null,
   "id": "8ff87864-28f7-4228-8f39-23a4f0b0da78",
   "metadata": {},
   "outputs": [],
   "source": []
  },
  {
   "cell_type": "code",
   "execution_count": null,
   "id": "82b2d7f7-1e84-495d-8dd5-fcc275114027",
   "metadata": {},
   "outputs": [],
   "source": []
  },
  {
   "cell_type": "code",
   "execution_count": null,
   "id": "f93f2cbd-fd81-416d-bb26-8eeea9851db8",
   "metadata": {},
   "outputs": [],
   "source": []
  },
  {
   "cell_type": "code",
   "execution_count": null,
   "id": "6e5ed249-f9e8-428f-9b8b-d1cc44409099",
   "metadata": {},
   "outputs": [],
   "source": []
  },
  {
   "cell_type": "code",
   "execution_count": null,
   "id": "e9590d46-caf0-49e6-b915-39836cc4fecf",
   "metadata": {},
   "outputs": [],
   "source": []
  },
  {
   "cell_type": "code",
   "execution_count": null,
   "id": "c5a2cc72-4401-4cb1-844d-8d6983d919aa",
   "metadata": {},
   "outputs": [],
   "source": []
  },
  {
   "cell_type": "code",
   "execution_count": null,
   "id": "6597f6d1-84cd-4a71-9906-dbda6322e6d9",
   "metadata": {},
   "outputs": [],
   "source": []
  },
  {
   "cell_type": "code",
   "execution_count": null,
   "id": "10e452ac-fb11-44e4-986d-3d83293069d9",
   "metadata": {},
   "outputs": [],
   "source": []
  }
 ],
 "metadata": {
  "kernelspec": {
   "display_name": "Python 3 (ipykernel)",
   "language": "python",
   "name": "python3"
  },
  "language_info": {
   "codemirror_mode": {
    "name": "ipython",
    "version": 3
   },
   "file_extension": ".py",
   "mimetype": "text/x-python",
   "name": "python",
   "nbconvert_exporter": "python",
   "pygments_lexer": "ipython3",
   "version": "3.12.7"
  }
 },
 "nbformat": 4,
 "nbformat_minor": 5
}
